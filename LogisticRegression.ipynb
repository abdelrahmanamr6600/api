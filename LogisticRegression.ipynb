{
  "nbformat": 4,
  "nbformat_minor": 0,
  "metadata": {
    "colab": {
      "provenance": []
    },
    "kernelspec": {
      "name": "python3",
      "display_name": "Python 3"
    },
    "language_info": {
      "name": "python"
    }
  },
  "cells": [
    {
      "cell_type": "code",
      "source": [
        "import numpy as np\n",
        "import pandas as pd\n",
        "import sklearn as sk\n",
        "from sklearn.linear_model import LinearRegression as lr\n",
        "from sklearn.model_selection import train_test_split as tts\n",
        "%matplotlib inline\n",
        "from sklearn.linear_model import LogisticRegression\n",
        "from sklearn.preprocessing import StandardScaler,MinMaxScaler\n",
        "import joblib"
      ],
      "metadata": {
        "id": "C6Kjm11Z-TBu"
      },
      "execution_count": 4,
      "outputs": []
    },
    {
      "cell_type": "code",
      "source": [
        "dt = pd.read_csv(\"/content/Sleep_health_and_lifestyle_dataset.csv\", header = 0)"
      ],
      "metadata": {
        "id": "eX2msjTpAmXA"
      },
      "execution_count": 16,
      "outputs": []
    },
    {
      "cell_type": "code",
      "source": [
        "# Assuming 'data' is your DataFrame and 'columns_to_drop' contains the names of columns to be dropped\n",
        "columns_to_drop = ['Gender','Occupation']  # Replace these with your actual column names\n",
        "\n",
        "# Dropping columns from the DataFrame\n",
        "dt.drop(columns=columns_to_drop, inplace=True)  # inplace=True modifies the DataFrame in place\n"
      ],
      "metadata": {
        "id": "ZP98KWlE-S-3"
      },
      "execution_count": 17,
      "outputs": []
    },
    {
      "cell_type": "code",
      "source": [
        "# Function to calculate mean between two numbers\n",
        "def calculate_mean(bold_purser):\n",
        "    parts = bold_purser.split('/')\n",
        "    if len(parts) == 2:\n",
        "        try:\n",
        "            num1 = int(parts[0])\n",
        "            num2 = int(parts[1])\n",
        "            return (num1 + num2) / 2\n",
        "        except ValueError:\n",
        "            return None\n",
        "    else:\n",
        "        return None\n",
        "\n",
        "# Apply the function to the \"bold purser\" column\n",
        "dt['Blood Pressure'] = dt['Blood Pressure'].apply(calculate_mean)\n",
        "\n",
        "# Display the updated DataFrame\n",
        "print(dt)\n",
        "\n"
      ],
      "metadata": {
        "colab": {
          "base_uri": "https://localhost:8080/"
        },
        "id": "h1eHw_XhCVEH",
        "outputId": "2338836b-5387-4d1b-fb43-2d515d2d9606"
      },
      "execution_count": 18,
      "outputs": [
        {
          "output_type": "stream",
          "name": "stdout",
          "text": [
            "     Age  Sleep Duration  Quality of Sleep  Physical Activity Level  \\\n",
            "0     27             6.1                 6                       42   \n",
            "1     28             6.2                 6                       60   \n",
            "2     28             6.2                 6                       60   \n",
            "3     28             5.9                 4                       30   \n",
            "4     28             5.9                 4                       30   \n",
            "..   ...             ...               ...                      ...   \n",
            "369   59             8.1                 9                       75   \n",
            "370   59             8.0                 9                       75   \n",
            "371   59             8.1                 9                       75   \n",
            "372   59             8.1                 9                       75   \n",
            "373   59             8.1                 9                       75   \n",
            "\n",
            "     Stress Level BMI Category  Blood Pressure  Heart Rate  Daily Steps  \\\n",
            "0               6   Overweight           104.5          77         4200   \n",
            "1               8       Normal           102.5          75        10000   \n",
            "2               8       Normal           102.5          75        10000   \n",
            "3               8        Obese           115.0          85         3000   \n",
            "4               8        Obese           115.0          85         3000   \n",
            "..            ...          ...             ...         ...          ...   \n",
            "369             3   Overweight           117.5          68         7000   \n",
            "370             3   Overweight           117.5          68         7000   \n",
            "371             3   Overweight           117.5          68         7000   \n",
            "372             3   Overweight           117.5          68         7000   \n",
            "373             3   Overweight           117.5          68         7000   \n",
            "\n",
            "    Sleep Disorder  \n",
            "0              NaN  \n",
            "1              NaN  \n",
            "2              NaN  \n",
            "3      Sleep Apnea  \n",
            "4      Sleep Apnea  \n",
            "..             ...  \n",
            "369    Sleep Apnea  \n",
            "370    Sleep Apnea  \n",
            "371    Sleep Apnea  \n",
            "372    Sleep Apnea  \n",
            "373    Sleep Apnea  \n",
            "\n",
            "[374 rows x 10 columns]\n"
          ]
        }
      ]
    },
    {
      "cell_type": "code",
      "source": [
        "def handle_BMI(x):\n",
        "    if x == \"Overweight\": return 0\n",
        "    elif x == \"Normal\" : return 1\n",
        "    elif x == \"Obese\" : return 2\n",
        "    elif x == \"Normal Weight\": return 3\n",
        "\n",
        "def handle_Disorder(x):\n",
        "    if pd.isnull(x)  : return 0 # if its null value so i assume it's 'normal'\n",
        "    elif x == \"Sleep Apnea\": return 1\n",
        "    elif x == \"Insomnia\" : return 2"
      ],
      "metadata": {
        "id": "e2_gmvIO-S70"
      },
      "execution_count": 19,
      "outputs": []
    },
    {
      "cell_type": "code",
      "source": [
        "dt['BMI Category'] = dt['BMI Category'].apply(handle_BMI)\n",
        "dt['Sleep Disorder'] = dt['Sleep Disorder'].apply(handle_Disorder)"
      ],
      "metadata": {
        "id": "RdF_Svd3-S42"
      },
      "execution_count": 20,
      "outputs": []
    },
    {
      "cell_type": "code",
      "source": [
        "dt.isnull().sum()"
      ],
      "metadata": {
        "colab": {
          "base_uri": "https://localhost:8080/"
        },
        "id": "f0kTlpNgBADf",
        "outputId": "fd071cf8-87ba-4300-de46-d5efe27a8686"
      },
      "execution_count": 21,
      "outputs": [
        {
          "output_type": "execute_result",
          "data": {
            "text/plain": [
              "Age                        0\n",
              "Sleep Duration             0\n",
              "Quality of Sleep           0\n",
              "Physical Activity Level    0\n",
              "Stress Level               0\n",
              "BMI Category               0\n",
              "Blood Pressure             0\n",
              "Heart Rate                 0\n",
              "Daily Steps                0\n",
              "Sleep Disorder             0\n",
              "dtype: int64"
            ]
          },
          "metadata": {},
          "execution_count": 21
        }
      ]
    },
    {
      "cell_type": "code",
      "source": [
        "X = dt.drop(columns=[\"Sleep Disorder\"])\n",
        "Y = dt[\"Sleep Disorder\"]"
      ],
      "metadata": {
        "id": "tzf_-PSnBAAt"
      },
      "execution_count": 22,
      "outputs": []
    },
    {
      "cell_type": "code",
      "source": [
        "X_train, X_test, Y_train, Y_test = tts(X, Y, test_size = 0.2, random_state = 5)\n",
        "print(X_train.shape)\n",
        "print(X_test.shape)\n",
        "print(Y_train.shape)\n",
        "print(Y_test.shape)"
      ],
      "metadata": {
        "colab": {
          "base_uri": "https://localhost:8080/"
        },
        "id": "1rYF0WyLA_94",
        "outputId": "a2ca83dc-74bc-4193-81e9-cbefca6d77bf"
      },
      "execution_count": 23,
      "outputs": [
        {
          "output_type": "stream",
          "name": "stdout",
          "text": [
            "(299, 9)\n",
            "(75, 9)\n",
            "(299,)\n",
            "(75,)\n"
          ]
        }
      ]
    },
    {
      "cell_type": "code",
      "source": [
        "model = LogisticRegression()\n",
        "model.fit(X_train,Y_train)"
      ],
      "metadata": {
        "colab": {
          "base_uri": "https://localhost:8080/",
          "height": 214
        },
        "id": "JnuAjym2A_7I",
        "outputId": "7c9de766-1c9b-40ed-dbca-b9ebadf118ac"
      },
      "execution_count": 24,
      "outputs": [
        {
          "output_type": "stream",
          "name": "stderr",
          "text": [
            "/usr/local/lib/python3.10/dist-packages/sklearn/linear_model/_logistic.py:458: ConvergenceWarning: lbfgs failed to converge (status=1):\n",
            "STOP: TOTAL NO. of ITERATIONS REACHED LIMIT.\n",
            "\n",
            "Increase the number of iterations (max_iter) or scale the data as shown in:\n",
            "    https://scikit-learn.org/stable/modules/preprocessing.html\n",
            "Please also refer to the documentation for alternative solver options:\n",
            "    https://scikit-learn.org/stable/modules/linear_model.html#logistic-regression\n",
            "  n_iter_i = _check_optimize_result(\n"
          ]
        },
        {
          "output_type": "execute_result",
          "data": {
            "text/plain": [
              "LogisticRegression()"
            ],
            "text/html": [
              "<style>#sk-container-id-2 {color: black;background-color: white;}#sk-container-id-2 pre{padding: 0;}#sk-container-id-2 div.sk-toggleable {background-color: white;}#sk-container-id-2 label.sk-toggleable__label {cursor: pointer;display: block;width: 100%;margin-bottom: 0;padding: 0.3em;box-sizing: border-box;text-align: center;}#sk-container-id-2 label.sk-toggleable__label-arrow:before {content: \"▸\";float: left;margin-right: 0.25em;color: #696969;}#sk-container-id-2 label.sk-toggleable__label-arrow:hover:before {color: black;}#sk-container-id-2 div.sk-estimator:hover label.sk-toggleable__label-arrow:before {color: black;}#sk-container-id-2 div.sk-toggleable__content {max-height: 0;max-width: 0;overflow: hidden;text-align: left;background-color: #f0f8ff;}#sk-container-id-2 div.sk-toggleable__content pre {margin: 0.2em;color: black;border-radius: 0.25em;background-color: #f0f8ff;}#sk-container-id-2 input.sk-toggleable__control:checked~div.sk-toggleable__content {max-height: 200px;max-width: 100%;overflow: auto;}#sk-container-id-2 input.sk-toggleable__control:checked~label.sk-toggleable__label-arrow:before {content: \"▾\";}#sk-container-id-2 div.sk-estimator input.sk-toggleable__control:checked~label.sk-toggleable__label {background-color: #d4ebff;}#sk-container-id-2 div.sk-label input.sk-toggleable__control:checked~label.sk-toggleable__label {background-color: #d4ebff;}#sk-container-id-2 input.sk-hidden--visually {border: 0;clip: rect(1px 1px 1px 1px);clip: rect(1px, 1px, 1px, 1px);height: 1px;margin: -1px;overflow: hidden;padding: 0;position: absolute;width: 1px;}#sk-container-id-2 div.sk-estimator {font-family: monospace;background-color: #f0f8ff;border: 1px dotted black;border-radius: 0.25em;box-sizing: border-box;margin-bottom: 0.5em;}#sk-container-id-2 div.sk-estimator:hover {background-color: #d4ebff;}#sk-container-id-2 div.sk-parallel-item::after {content: \"\";width: 100%;border-bottom: 1px solid gray;flex-grow: 1;}#sk-container-id-2 div.sk-label:hover label.sk-toggleable__label {background-color: #d4ebff;}#sk-container-id-2 div.sk-serial::before {content: \"\";position: absolute;border-left: 1px solid gray;box-sizing: border-box;top: 0;bottom: 0;left: 50%;z-index: 0;}#sk-container-id-2 div.sk-serial {display: flex;flex-direction: column;align-items: center;background-color: white;padding-right: 0.2em;padding-left: 0.2em;position: relative;}#sk-container-id-2 div.sk-item {position: relative;z-index: 1;}#sk-container-id-2 div.sk-parallel {display: flex;align-items: stretch;justify-content: center;background-color: white;position: relative;}#sk-container-id-2 div.sk-item::before, #sk-container-id-2 div.sk-parallel-item::before {content: \"\";position: absolute;border-left: 1px solid gray;box-sizing: border-box;top: 0;bottom: 0;left: 50%;z-index: -1;}#sk-container-id-2 div.sk-parallel-item {display: flex;flex-direction: column;z-index: 1;position: relative;background-color: white;}#sk-container-id-2 div.sk-parallel-item:first-child::after {align-self: flex-end;width: 50%;}#sk-container-id-2 div.sk-parallel-item:last-child::after {align-self: flex-start;width: 50%;}#sk-container-id-2 div.sk-parallel-item:only-child::after {width: 0;}#sk-container-id-2 div.sk-dashed-wrapped {border: 1px dashed gray;margin: 0 0.4em 0.5em 0.4em;box-sizing: border-box;padding-bottom: 0.4em;background-color: white;}#sk-container-id-2 div.sk-label label {font-family: monospace;font-weight: bold;display: inline-block;line-height: 1.2em;}#sk-container-id-2 div.sk-label-container {text-align: center;}#sk-container-id-2 div.sk-container {/* jupyter's `normalize.less` sets `[hidden] { display: none; }` but bootstrap.min.css set `[hidden] { display: none !important; }` so we also need the `!important` here to be able to override the default hidden behavior on the sphinx rendered scikit-learn.org. See: https://github.com/scikit-learn/scikit-learn/issues/21755 */display: inline-block !important;position: relative;}#sk-container-id-2 div.sk-text-repr-fallback {display: none;}</style><div id=\"sk-container-id-2\" class=\"sk-top-container\"><div class=\"sk-text-repr-fallback\"><pre>LogisticRegression()</pre><b>In a Jupyter environment, please rerun this cell to show the HTML representation or trust the notebook. <br />On GitHub, the HTML representation is unable to render, please try loading this page with nbviewer.org.</b></div><div class=\"sk-container\" hidden><div class=\"sk-item\"><div class=\"sk-estimator sk-toggleable\"><input class=\"sk-toggleable__control sk-hidden--visually\" id=\"sk-estimator-id-2\" type=\"checkbox\" checked><label for=\"sk-estimator-id-2\" class=\"sk-toggleable__label sk-toggleable__label-arrow\">LogisticRegression</label><div class=\"sk-toggleable__content\"><pre>LogisticRegression()</pre></div></div></div></div></div>"
            ]
          },
          "metadata": {},
          "execution_count": 24
        }
      ]
    },
    {
      "cell_type": "code",
      "source": [
        "model.score(X_test,Y_test)"
      ],
      "metadata": {
        "colab": {
          "base_uri": "https://localhost:8080/"
        },
        "id": "trbhTzrjBLcX",
        "outputId": "9955fe84-24fc-4921-a16b-2b297d564b68"
      },
      "execution_count": 25,
      "outputs": [
        {
          "output_type": "execute_result",
          "data": {
            "text/plain": [
              "0.72"
            ]
          },
          "metadata": {},
          "execution_count": 25
        }
      ]
    },
    {
      "cell_type": "code",
      "source": [
        "def output(x):\n",
        "    if x == 0  : return 'normal'\n",
        "    elif x == 1: return \"Sleep Apnea\"\n",
        "    elif x == 2: return \"Insomnia\""
      ],
      "metadata": {
        "id": "cbZ6twtZBLZW"
      },
      "execution_count": 26,
      "outputs": []
    },
    {
      "cell_type": "code",
      "source": [
        "new_data = pd.DataFrame({\n",
        "    'Age': [28],\n",
        "    'Sleep Duration': [5.9],\n",
        "    'Quality of Sleep': [4],\n",
        "    'Physical Activity Level': [30],\n",
        "    'Stress Level': [8],\n",
        "    'BMI Category': [2],\n",
        "    'Blood Pressure':[115],\n",
        "    'Heart Rate': [85],\n",
        "    'Daily Steps': [3000]\n",
        "})"
      ],
      "metadata": {
        "id": "_geP4v5YBLV3"
      },
      "execution_count": 27,
      "outputs": []
    },
    {
      "cell_type": "code",
      "source": [
        "prediction = model.predict(new_data)\n",
        "print (output (prediction[0]))"
      ],
      "metadata": {
        "colab": {
          "base_uri": "https://localhost:8080/"
        },
        "id": "FHSnltB4BLS_",
        "outputId": "1bc4d94d-1ac0-4c1f-9741-b2eec5608f23"
      },
      "execution_count": 28,
      "outputs": [
        {
          "output_type": "stream",
          "name": "stdout",
          "text": [
            "Insomnia\n"
          ]
        }
      ]
    }
  ]
}