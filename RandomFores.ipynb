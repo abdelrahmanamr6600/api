{
  "nbformat": 4,
  "nbformat_minor": 0,
  "metadata": {
    "colab": {
      "provenance": []
    },
    "kernelspec": {
      "name": "python3",
      "display_name": "Python 3"
    },
    "language_info": {
      "name": "python"
    }
  },
  "cells": [
    {
      "cell_type": "code",
      "source": [
        "import numpy as np\n",
        "import pandas as pd\n",
        "from sklearn.model_selection import train_test_split\n",
        "from sklearn.ensemble import RandomForestClassifier\n",
        "from sklearn.metrics import accuracy_score\n",
        "from sklearn.model_selection import train_test_split"
      ],
      "metadata": {
        "id": "C6Kjm11Z-TBu"
      },
      "execution_count": 1,
      "outputs": []
    },
    {
      "cell_type": "code",
      "source": [
        "dt = pd.read_csv(\"/content/Sleep_health_and_lifestyle_dataset.csv\", header = 0)"
      ],
      "metadata": {
        "id": "eX2msjTpAmXA"
      },
      "execution_count": 2,
      "outputs": []
    },
    {
      "cell_type": "code",
      "source": [
        "# Assuming 'data' is your DataFrame and 'columns_to_drop' contains the names of columns to be dropped\n",
        "columns_to_drop = ['Gender','Occupation']  # Replace these with your actual column names\n",
        "\n",
        "# Dropping columns from the DataFrame\n",
        "dt.drop(columns=columns_to_drop, inplace=True)  # inplace=True modifies the DataFrame in place\n"
      ],
      "metadata": {
        "id": "ZP98KWlE-S-3"
      },
      "execution_count": 3,
      "outputs": []
    },
    {
      "cell_type": "code",
      "source": [
        "# Function to calculate mean between two numbers\n",
        "def calculate_mean(bold_purser):\n",
        "    parts = bold_purser.split('/')\n",
        "    if len(parts) == 2:\n",
        "        try:\n",
        "            num1 = int(parts[0])\n",
        "            num2 = int(parts[1])\n",
        "            return (num1 + num2) / 2\n",
        "        except ValueError:\n",
        "            return None\n",
        "    else:\n",
        "        return None\n",
        "\n",
        "# Apply the function to the \"bold purser\" column\n",
        "dt['Blood Pressure'] = dt['Blood Pressure'].apply(calculate_mean)\n",
        "\n",
        "# Display the updated DataFrame\n",
        "print(dt)\n",
        "\n"
      ],
      "metadata": {
        "colab": {
          "base_uri": "https://localhost:8080/"
        },
        "id": "h1eHw_XhCVEH",
        "outputId": "1a0637ea-4762-4bd2-cec4-8fd1c94ef41c"
      },
      "execution_count": 4,
      "outputs": [
        {
          "output_type": "stream",
          "name": "stdout",
          "text": [
            "     Age  Sleep Duration  Quality of Sleep  Physical Activity Level  \\\n",
            "0     27             6.1                 6                       42   \n",
            "1     28             6.2                 6                       60   \n",
            "2     28             6.2                 6                       60   \n",
            "3     28             5.9                 4                       30   \n",
            "4     28             5.9                 4                       30   \n",
            "..   ...             ...               ...                      ...   \n",
            "369   59             8.1                 9                       75   \n",
            "370   59             8.0                 9                       75   \n",
            "371   59             8.1                 9                       75   \n",
            "372   59             8.1                 9                       75   \n",
            "373   59             8.1                 9                       75   \n",
            "\n",
            "     Stress Level BMI Category  Blood Pressure  Heart Rate  Daily Steps  \\\n",
            "0               6   Overweight           104.5          77         4200   \n",
            "1               8       Normal           102.5          75        10000   \n",
            "2               8       Normal           102.5          75        10000   \n",
            "3               8        Obese           115.0          85         3000   \n",
            "4               8        Obese           115.0          85         3000   \n",
            "..            ...          ...             ...         ...          ...   \n",
            "369             3   Overweight           117.5          68         7000   \n",
            "370             3   Overweight           117.5          68         7000   \n",
            "371             3   Overweight           117.5          68         7000   \n",
            "372             3   Overweight           117.5          68         7000   \n",
            "373             3   Overweight           117.5          68         7000   \n",
            "\n",
            "    Sleep Disorder  \n",
            "0              NaN  \n",
            "1              NaN  \n",
            "2              NaN  \n",
            "3      Sleep Apnea  \n",
            "4      Sleep Apnea  \n",
            "..             ...  \n",
            "369    Sleep Apnea  \n",
            "370    Sleep Apnea  \n",
            "371    Sleep Apnea  \n",
            "372    Sleep Apnea  \n",
            "373    Sleep Apnea  \n",
            "\n",
            "[374 rows x 10 columns]\n"
          ]
        }
      ]
    },
    {
      "cell_type": "code",
      "source": [
        "def handle_BMI(x):\n",
        "    if x == \"Overweight\": return 0\n",
        "    elif x == \"Normal\" : return 1\n",
        "    elif x == \"Obese\" : return 2\n",
        "    elif x == \"Normal Weight\": return 3\n",
        "\n",
        "def handle_Disorder(x):\n",
        "    if pd.isnull(x)  : return 0 # if its null value so i assume it's 'normal'\n",
        "    elif x == \"Sleep Apnea\": return 1\n",
        "    elif x == \"Insomnia\" : return 2"
      ],
      "metadata": {
        "id": "e2_gmvIO-S70"
      },
      "execution_count": 5,
      "outputs": []
    },
    {
      "cell_type": "code",
      "source": [
        "dt['BMI Category'] = dt['BMI Category'].apply(handle_BMI)\n",
        "dt['Sleep Disorder'] = dt['Sleep Disorder'].apply(handle_Disorder)"
      ],
      "metadata": {
        "id": "RdF_Svd3-S42"
      },
      "execution_count": 6,
      "outputs": []
    },
    {
      "cell_type": "code",
      "source": [
        "dt.isnull().sum()"
      ],
      "metadata": {
        "colab": {
          "base_uri": "https://localhost:8080/"
        },
        "id": "f0kTlpNgBADf",
        "outputId": "6c0f24ba-a786-4596-a806-ccf9fbe52870"
      },
      "execution_count": 7,
      "outputs": [
        {
          "output_type": "execute_result",
          "data": {
            "text/plain": [
              "Age                        0\n",
              "Sleep Duration             0\n",
              "Quality of Sleep           0\n",
              "Physical Activity Level    0\n",
              "Stress Level               0\n",
              "BMI Category               0\n",
              "Blood Pressure             0\n",
              "Heart Rate                 0\n",
              "Daily Steps                0\n",
              "Sleep Disorder             0\n",
              "dtype: int64"
            ]
          },
          "metadata": {},
          "execution_count": 7
        }
      ]
    },
    {
      "cell_type": "code",
      "source": [
        "X = dt.drop(columns=[\"Sleep Disorder\"])\n",
        "Y = dt[\"Sleep Disorder\"]"
      ],
      "metadata": {
        "id": "tzf_-PSnBAAt"
      },
      "execution_count": 8,
      "outputs": []
    },
    {
      "cell_type": "code",
      "source": [
        "X_train, X_test, y_train, y_test = train_test_split(X, Y, test_size=0.2, random_state=42)"
      ],
      "metadata": {
        "id": "1rYF0WyLA_94"
      },
      "execution_count": 9,
      "outputs": []
    },
    {
      "cell_type": "code",
      "source": [
        "# Creating Random Forest Classifier\n",
        "rf_model = RandomForestClassifier(n_estimators=100, random_state=42)\n",
        "\n",
        "# Training the model\n",
        "rf_model.fit(X_train, y_train)\n",
        "\n",
        "# Making predictions\n",
        "y_pred = rf_model.predict(X_test)\n",
        "\n",
        "# Evaluating the model\n",
        "accuracy = accuracy_score(y_test, y_pred)\n",
        "print(\"Accuracy:\", accuracy)\n"
      ],
      "metadata": {
        "colab": {
          "base_uri": "https://localhost:8080/"
        },
        "id": "Y3JyvisBIvI5",
        "outputId": "9a414a37-3b46-4bee-cab2-203f2ba87e89"
      },
      "execution_count": 10,
      "outputs": [
        {
          "output_type": "stream",
          "name": "stdout",
          "text": [
            "Accuracy: 0.88\n"
          ]
        }
      ]
    },
    {
      "cell_type": "code",
      "source": [
        "def output(x):\n",
        "    if x == 0  : return 'normal'\n",
        "    elif x == 1: return \"Sleep Apnea\"\n",
        "    elif x == 2: return \"Insomnia\""
      ],
      "metadata": {
        "id": "fyYpeNCiIvFx"
      },
      "execution_count": 11,
      "outputs": []
    },
    {
      "cell_type": "code",
      "source": [
        "new_data = pd.DataFrame({\n",
        "    'Age': [28],\n",
        "    'Sleep Duration': [5.9],\n",
        "    'Quality of Sleep': [4],\n",
        "    'Physical Activity Level': [30],\n",
        "    'Stress Level': [8],\n",
        "    'BMI Category': [2],\n",
        "    'Blood Pressure':[115],\n",
        "    'Heart Rate': [85],\n",
        "    'Daily Steps': [3000]\n",
        "})"
      ],
      "metadata": {
        "id": "W0vfv0ICrxsp"
      },
      "execution_count": 12,
      "outputs": []
    },
    {
      "cell_type": "code",
      "source": [
        "prediction = rf_model.predict(new_data)\n",
        "print (output (prediction[0]))"
      ],
      "metadata": {
        "colab": {
          "base_uri": "https://localhost:8080/"
        },
        "id": "AFmTsHPWr0Fp",
        "outputId": "c81fe1c5-9170-4c46-835a-c78d577879b8"
      },
      "execution_count": 13,
      "outputs": [
        {
          "output_type": "stream",
          "name": "stdout",
          "text": [
            "Sleep Apnea\n"
          ]
        }
      ]
    }
  ]
}